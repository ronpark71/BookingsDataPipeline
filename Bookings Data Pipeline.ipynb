{
 "cells": [
  {
   "cell_type": "code",
   "execution_count": 147,
   "id": "1b11f4e8-1464-4337-b79f-e2faf6a755f6",
   "metadata": {},
   "outputs": [],
   "source": [
    "from pyspark.sql import SparkSession, Row, DataFrame\n",
    "from pyspark.sql.types import DateType\n",
    "from pyspark.sql.window import Window\n",
    "\n",
    "from pyspark.sql.functions import (\n",
    "    col, sha2, concat_ws, count, countDistinct, input_file_name, regexp_extract, broadcast,\n",
    "    regexp_replace, lag, lead, lit, datediff, current_date, first, floor, lower,\n",
    "    when, expr, to_date, coalesce, length, trim, min, max, substring,\n",
    "    row_number, desc, year, month, dayofweek, date_format, collect_list,\n",
    "    sum as spark_sum, min as spark_min, max as spark_max\n",
    ")\n",
    "\n",
    "import glob\n",
    "import os,shutil\n",
    "from datetime import datetime\n",
    "from functools import reduce\n",
    "\n",
    "os.environ[\"HADOOP_HOME\"] = \"C:\\\\hadoop\"\n",
    "os.environ[\"PATH\"] += \";C:\\\\hadoop\\\\bin\"\n",
    "\n",
    "from delta import configure_spark_with_delta_pip\n",
    "\n",
    "from typing import Union, List\n",
    "from delta.tables import DeltaTable"
   ]
  },
  {
   "cell_type": "code",
   "execution_count": 148,
   "id": "e73d44ab-d6c4-430c-81f1-d99a53992614",
   "metadata": {},
   "outputs": [],
   "source": [
    "# This defines the required fields for the file\n",
    "required_fields = [\n",
    "            \"GUEST_NAME\", \"EMAIL_ADDRESS\", \"BOOKING_NUMBER\", \"PHONE_NUM\",\n",
    "            \"STREET_ADDRESS\", \"STATE\", \"BOOKING_DATE\", \"DEPARTURE_DATE\"\n",
    "        ]\n",
    "incremental_or_full = \"incremental\"\n",
    "input_dir = \"C:/Users/Ronald/data\"\n",
    "archive_path = \"C:/Users/Ronald/data/process/archive\"\n",
    "process_dir = os.path.join(input_dir, \"process\")\n",
    "failed_dir = os.path.join(input_dir, \"failed\")\n",
    "\n",
    "bronze_path = \"C:/Users/Ronald/delta/bronze_output/\"\n",
    "stage_path = \"C:/Users/Ronald/delta/stg_incremental/\"\n",
    "output_path = \"C:/Users/Ronald/delta/customer_aggregate/\"\n",
    "business_insights_path = \"C:/Users/Ronald/delta/business_insight/\"\n"
   ]
  },
  {
   "cell_type": "code",
   "execution_count": 149,
   "id": "e032e02f-743b-4851-aa7a-618cc5105a4d",
   "metadata": {},
   "outputs": [],
   "source": [
    "builder = (\n",
    "    SparkSession.builder.appName(\"VikingCruisesAssessmentApp\")\n",
    "    .master(\"local[*]\")\n",
    "    .config(\"spark.sql.extensions\", \"io.delta.sql.DeltaSparkSessionExtension\")\n",
    "    .config(\"spark.sql.catalog.spark_catalog\", \"org.apache.spark.sql.delta.catalog.DeltaCatalog\")\n",
    ")\n",
    "\n",
    "spark = configure_spark_with_delta_pip(builder).getOrCreate()"
   ]
  },
  {
   "cell_type": "code",
   "execution_count": 150,
   "id": "075a1bf2-0aa9-4d9e-815a-e28fc1d257a2",
   "metadata": {},
   "outputs": [],
   "source": [
    "## FILE VALIDATION FUNCTIONS\n",
    "\n",
    "def read_file(file_path):\n",
    "    return spark.read.csv(file_path, header=True, inferSchema=True)\n",
    "\n",
    "def has_required_columns(df, required_fields):\n",
    "    return set(required_fields).issubset(set(df.columns))\n",
    "\n",
    "def trim_required_fields(df, required_fields):\n",
    "    return df.select([\n",
    "        trim(col(c)).alias(c) if c in required_fields else col(c) for c in df.columns\n",
    "    ])\n",
    "\n",
    "def has_null_or_blank_fields(df_trimmed, required_fields):\n",
    "    null_or_blank_exprs = [col(c).isNull() | (col(c) == \"\") for c in required_fields]\n",
    "    return df_trimmed.filter(reduce(lambda x, y: x | y, null_or_blank_exprs)).count() > 0\n",
    "\n",
    "def has_invalid_booking_numbers(df_trimmed):\n",
    "    return df_trimmed.filter(~col(\"BOOKING_NUMBER\").startswith(\"BOOK\")).count() > 0\n",
    "\n",
    "def has_invalid_phone_numbers(df_trimmed):\n",
    "    df_phone_check = df_trimmed.withColumn(\"PHONE_NUM_CLEAN\", regexp_replace(col(\"PHONE_NUM\"), \"[^0-9]\", \"\"))\n",
    "    return df_phone_check.filter(col(\"PHONE_NUM\") != col(\"PHONE_NUM_CLEAN\")).count() > 0\n",
    "\n",
    "def validate_file(file_path, required_fields):\n",
    "    file_name = os.path.basename(file_path)\n",
    "    try:\n",
    "        df = read_file(file_path)\n",
    "\n",
    "        if not has_required_columns(df, required_fields):\n",
    "            raise ValueError(\"Missing required columns\")\n",
    "\n",
    "        df_trimmed = trim_required_fields(df, required_fields)\n",
    "\n",
    "        if has_null_or_blank_fields(df_trimmed, required_fields):\n",
    "            raise ValueError(\"Null or blank values in required columns\")\n",
    "\n",
    "        if has_invalid_booking_numbers(df_trimmed):\n",
    "            raise ValueError(\"Invalid BOOKING_NUMBER format\")\n",
    "\n",
    "        if has_invalid_phone_numbers(df_trimmed):\n",
    "            raise ValueError(\"PHONE_NUM contains non-digit characters\")\n",
    "\n",
    "        return file_name, os.path.abspath(file_path), int(os.path.getmtime(file_path))  # Valid\n",
    "\n",
    "    except Exception as e:\n",
    "        print(f\"[ERROR] Skipping file '{file_name}': {e}\")\n",
    "        return None\n",
    "\n",
    "def validate_and_move_files(file_list, required_fields, process_dir, failed_dir):\n",
    "    \"\"\"\n",
    "    Validates files and moves them to process or failed directories.\n",
    "\n",
    "    Returns:\n",
    "        List of tuples: (file_name, new_path, timestamp) for valid files.\n",
    "    \"\"\"\n",
    "    file_info = []\n",
    "\n",
    "    for file in file_list:\n",
    "        file_name = os.path.basename(file)\n",
    "        ts = os.path.getmtime(file)\n",
    "\n",
    "        result = validate_file(file, required_fields)\n",
    "        if result:\n",
    "            print(f\"File '{result[0]}' passes validation\")\n",
    "            new_path = os.path.normpath(os.path.join(process_dir, file_name))\n",
    "            shutil.move(file, new_path)\n",
    "            file_info.append((file_name, new_path, ts))\n",
    "        else:\n",
    "            print(f\"File '{file}' failed validation\")\n",
    "            shutil.move(file, os.path.join(failed_dir, file_name))\n",
    "    \n",
    "    return file_info\n"
   ]
  },
  {
   "cell_type": "code",
   "execution_count": 151,
   "id": "0ce324bd-91e8-4434-b408-3fcfedbdd3d0",
   "metadata": {},
   "outputs": [],
   "source": [
    "##FUNCTION TO LOAD FILE AND ADD ADMIN COLUMNS AND EMAIL_HASH COLUMN\n",
    "\n",
    "def read_and_enrich_csv(file_name: str, file_path: str, file_ts: int) -> DataFrame:\n",
    "    \"\"\"Reads a CSV file and adds file metadata as columns.\"\"\"\n",
    "    df = spark.read.csv(file_path, header=True, inferSchema=True)\n",
    "    df = df.withColumn(\"source_file_name\", lit(file_name)) \\\n",
    "           .withColumn(\"source_file_path\", lit(file_path)) \\\n",
    "           .withColumn(\"file_modified_unix\", lit(file_ts)) \\\n",
    "           .withColumn(\"EMAIL_HASH\", sha2(col(\"EMAIL_ADDRESS\"), 256))\n",
    "\n",
    "    # Get current columns\n",
    "    cols = df.columns\n",
    "\n",
    "    # Move EMAIL_HASH to the front\n",
    "    new_col_order = [\"EMAIL_HASH\"] + [col for col in cols if col != \"EMAIL_HASH\"]\n",
    "\n",
    "    # Reorder DataFrame\n",
    "    df = df.select(*new_col_order)\n",
    "    \n",
    "    return df"
   ]
  },
  {
   "cell_type": "code",
   "execution_count": 152,
   "id": "ffca3c3f-60ec-436e-8dfa-bc36d63d84ba",
   "metadata": {},
   "outputs": [],
   "source": [
    "##function to merge dataframe into delta table\n",
    "def merge_into_delta_table(\n",
    "    df_new: DataFrame,                        ### New DataFrame to merge  \n",
    "    delta_path: str,                          ### Path to the Delta Lake table.\n",
    "    spark: SparkSession,                      ### Active SparkSession\n",
    "    merge_keys: Union[str, List[str]],        ### Column name(s) to identify unique records (string or list of strings)\n",
    "    mode: str = \"overwrite\",                  ### Write mode for Delta (default: \"overwrite\").\n",
    "    allow_schema_evolution: bool = True,      ### This accounts for schema evolution\n",
    "    verbose: bool = True                      ### Whether to print status messages.\n",
    ") -> None:\n",
    "    try:\n",
    "        if isinstance(merge_keys, str):\n",
    "            merge_keys = [merge_keys]\n",
    "\n",
    "        if not os.path.exists(delta_path):\n",
    "            df_new.write \\\n",
    "                .mode(mode) \\\n",
    "                .format(\"delta\") \\\n",
    "                .option(\"mergeSchema\", str(allow_schema_evolution).lower()) \\\n",
    "                .save(delta_path)\n",
    "            if verbose:\n",
    "                print(f\"✅ Initialized Delta table at {delta_path} from df_new\")\n",
    "        else:\n",
    "            delta_table = DeltaTable.forPath(spark, delta_path)\n",
    "\n",
    "            merge_condition = \" AND \".join([f\"target.{key} = source.{key}\" for key in merge_keys])\n",
    "\n",
    "           # Delete existing records in target that match the new data\n",
    "            delta_table.alias(\"target\") \\\n",
    "                .merge(\n",
    "                    df_new.alias(\"source\"),\n",
    "                    merge_condition\n",
    "                ) \\\n",
    "                .whenMatchedDelete() \\\n",
    "                .execute()\n",
    "\n",
    "            # Append new data\n",
    "            df_new.write \\\n",
    "                .format(\"delta\") \\\n",
    "                .mode(\"append\") \\\n",
    "                .option(\"mergeSchema\", str(allow_schema_evolution).lower()) \\\n",
    "                .save(delta_path)\n",
    "\n",
    "            if verbose:\n",
    "                print(f\"✅ Deleted + inserted records into Delta table at {delta_path}\")\n",
    "\n",
    "    except Exception as e:\n",
    "        print(f\"❌ Error in merge_into_delta_table: {e}\")\n",
    "        raise"
   ]
  },
  {
   "cell_type": "code",
   "execution_count": 153,
   "id": "d30e643d-48b8-4751-b0ac-870a50044104",
   "metadata": {},
   "outputs": [
    {
     "name": "stdout",
     "output_type": "stream",
     "text": [
      "['C:/Users/Ronald/data\\\\data_engineer_viking_assessment.csv']\n"
     ]
    }
   ],
   "source": [
    "file_list = glob.glob(os.path.join(input_dir, \"data_engineer_viking_assessment*.csv\"))\n",
    "print(file_list)"
   ]
  },
  {
   "cell_type": "code",
   "execution_count": 154,
   "id": "fc54b780-5ba4-4adf-81a4-70c1be6b2cfc",
   "metadata": {},
   "outputs": [
    {
     "name": "stdout",
     "output_type": "stream",
     "text": [
      "File 'data_engineer_viking_assessment.csv' passes validation\n"
     ]
    }
   ],
   "source": [
    "## LOOP THROUGH FILES AND VALIDATE THEM.  MOVE BAD FILES -> Failed,  MOVE GOOD FILES -> Process\n",
    "file_info = validate_and_move_files(file_list, required_fields, process_dir, failed_dir)\n",
    "\n",
    "# LOOP THROUGH FILES FOR PROCESSING AND CALL FUNCTION TO READ FILES INTO df_staging_final\n",
    "df_staging_final: DataFrame = None\n",
    "\n",
    "for file_name, file_path, file_ts in file_info:\n",
    "    try:\n",
    "        df = read_and_enrich_csv(file_name, file_path, file_ts)\n",
    "\n",
    "#first dataframe just assign df to df_staging_final\n",
    "        if df_staging_final is None:\n",
    "            df_staging_final = df\n",
    "\n",
    "#next dataframes will be unioned to df_staging_final but include any columns that do not exist in both\n",
    "        else:\n",
    "            df_staging_final = df_staging_final.unionByName(df, allowMissingColumns=True)\n",
    "    except Exception as e:\n",
    "        print(f\"[ERROR] Failed to read {file_name}: {e}\")"
   ]
  },
  {
   "cell_type": "code",
   "execution_count": 155,
   "id": "34a307e3-2154-469d-859e-046ac0b0bdde",
   "metadata": {},
   "outputs": [
    {
     "name": "stdout",
     "output_type": "stream",
     "text": [
      "+--------------------+-----------------+--------------------+--------------+----------+--------------------+-------------+-------------------+-------------------+--------------------+--------------------+--------------------+\n",
      "|          EMAIL_HASH|       GUEST_NAME|       EMAIL_ADDRESS|BOOKING_NUMBER| PHONE_NUM|      STREET_ADDRESS|        STATE|       BOOKING_DATE|     DEPARTURE_DATE|    source_file_name|    source_file_path|  file_modified_unix|\n",
      "+--------------------+-----------------+--------------------+--------------+----------+--------------------+-------------+-------------------+-------------------+--------------------+--------------------+--------------------+\n",
      "|a74a05b38d3d593cf...|Cassandra Summers| shodges@example.org|     BOOK00001|7727501229| 8234 Manning Avenue|       Hawaii|2025-05-25 00:00:00|2025-05-26 00:00:00|data_engineer_vik...|C:\\Users\\Ronald\\d...|1.7534694821965263E9|\n",
      "|0c5b545a59a312d9c...|      Jason Meyer| tmurphy@example.com|     BOOK00002|3817286553|0487 Benjamin Plains|    Minnesota|2023-08-06 00:00:00|2024-01-15 00:00:00|data_engineer_vik...|C:\\Users\\Ronald\\d...|1.7534694821965263E9|\n",
      "|5867655c9e2883a5a...|    Carrie Medina|  john77@example.net|     BOOK00003|5350263670|  090 Lawrence Mount| North Dakota|2025-01-19 00:00:00|2025-05-26 00:00:00|data_engineer_vik...|C:\\Users\\Ronald\\d...|1.7534694821965263E9|\n",
      "|c71afbf726dd9a8bc...|       Peter Holt|heatherhowe@examp...|     BOOK00004|9855482494|10555 Sharon Orchard|    Wisconsin|2024-07-03 00:00:00|2025-08-03 00:00:00|data_engineer_vik...|C:\\Users\\Ronald\\d...|1.7534694821965263E9|\n",
      "|e2b9c2a19db9e29e1...| Roberta Williams|  hrojas@example.com|     BOOK00005|7835228706|       646 Frye Dale| Rhode Island|2024-11-13 00:00:00|2026-06-23 00:00:00|data_engineer_vik...|C:\\Users\\Ronald\\d...|1.7534694821965263E9|\n",
      "|7bf61643dba060556...|  Justin Campbell|perezdonna@exampl...|     BOOK00006|5792770562|3292 Michael Holl...|         Iowa|2024-01-15 00:00:00|2024-04-27 00:00:00|data_engineer_vik...|C:\\Users\\Ronald\\d...|1.7534694821965263E9|\n",
      "|f3b4835dd4023a21c...|    Bonnie Massey|   hwest@example.com|     BOOK00007|4007789221|  078 Richard Plains|    Minnesota|2024-10-06 00:00:00|2025-07-13 00:00:00|data_engineer_vik...|C:\\Users\\Ronald\\d...|1.7534694821965263E9|\n",
      "|ea6ddfd6f4cd82028...|   Rebecca Garcia|mcconnelldebra@ex...|     BOOK00008|2573522641|   642 Miller Square|      Florida|2025-02-28 00:00:00|2025-03-22 00:00:00|data_engineer_vik...|C:\\Users\\Ronald\\d...|1.7534694821965263E9|\n",
      "|33917bcdd53e39f6a...|    James Marquez| keith68@example.org|     BOOK00009|7460515817|1188 Fernandez Un...|   California|2023-11-04 00:00:00|2024-03-15 00:00:00|data_engineer_vik...|C:\\Users\\Ronald\\d...|1.7534694821965263E9|\n",
      "|2324f40d7f928b540...|     Randy Mccann|stevensjennifer@e...|    BOOK000010|5967615038|  78105 Regina Roads|West Virginia|2024-09-22 00:00:00|2025-10-05 00:00:00|data_engineer_vik...|C:\\Users\\Ronald\\d...|1.7534694821965263E9|\n",
      "|32e48fb60785ae118...|     Erin Watkins|rodneywilliams@ex...|    BOOK000011|9689804003|   29812 Cole Spring|      Georgia|2025-01-01 00:00:00|2025-09-23 00:00:00|data_engineer_vik...|C:\\Users\\Ronald\\d...|1.7534694821965263E9|\n",
      "|2c31ba6b39d49fe40...|   Kathleen Myers|lisacunningham@ex...|    BOOK000012|9868050210|     603 Ochoa Alley|     Kentucky|2024-09-07 00:00:00|2025-10-13 00:00:00|data_engineer_vik...|C:\\Users\\Ronald\\d...|1.7534694821965263E9|\n",
      "|3b292c769918d6d66...|     Leslie Flynn|angela78@example.net|    BOOK000013|9944745187|542 Nathaniel Val...|     Kentucky|2024-08-19 00:00:00|2024-09-18 00:00:00|data_engineer_vik...|C:\\Users\\Ronald\\d...|1.7534694821965263E9|\n",
      "|1674d7c94a4ac7939...|     Edward Wiley|smithmax@example.net|    BOOK000014|9655098438|     426 Taylor Road|West Virginia|2024-12-04 00:00:00|2025-12-06 00:00:00|data_engineer_vik...|C:\\Users\\Ronald\\d...|1.7534694821965263E9|\n",
      "|13f8503db10a73142...|      Amanda Lowe| james42@example.org|    BOOK000015|1186112886|5228 Erica Wall A...|  Mississippi|2024-10-14 00:00:00|2026-05-12 00:00:00|data_engineer_vik...|C:\\Users\\Ronald\\d...|1.7534694821965263E9|\n",
      "|b15a8056d099e893f...|    Destiny Wyatt|uhernandez@exampl...|    BOOK000016|5555551744|  715 Roberts Island|     Nebraska|2025-03-26 00:00:00|2025-12-08 00:00:00|data_engineer_vik...|C:\\Users\\Ronald\\d...|1.7534694821965263E9|\n",
      "|b0362cc2788e1d972...|    Amber Morales|matthew93@example...|    BOOK000017|6262301310|   5611 Stacy Plains|      Florida|2024-10-29 00:00:00|2025-08-07 00:00:00|data_engineer_vik...|C:\\Users\\Ronald\\d...|1.7534694821965263E9|\n",
      "|e473195e4dd72ef75...|  Daniel Thompson|josephdavid@examp...|    BOOK000018|1788491174|0699 Palmer Shore...|     New York|2024-10-09 00:00:00|2025-01-24 00:00:00|data_engineer_vik...|C:\\Users\\Ronald\\d...|1.7534694821965263E9|\n",
      "|e2bd2654e367c3ed1...|      Linda Lewis|bellchristine@exa...|    BOOK000019|3131561835|  48941 Alexis Mills|      Alabama|2024-11-21 00:00:00|2026-02-07 00:00:00|data_engineer_vik...|C:\\Users\\Ronald\\d...|1.7534694821965263E9|\n",
      "|8614b3c7d3d001de0...|     Tanya Bailey|kevinhill@example...|    BOOK000020|7221186448|094 Wyatt Village...|      Arizona|2025-02-03 00:00:00|2025-02-04 00:00:00|data_engineer_vik...|C:\\Users\\Ronald\\d...|1.7534694821965263E9|\n",
      "+--------------------+-----------------+--------------------+--------------+----------+--------------------+-------------+-------------------+-------------------+--------------------+--------------------+--------------------+\n",
      "only showing top 20 rows\n",
      "\n",
      "root\n",
      " |-- EMAIL_HASH: string (nullable = true)\n",
      " |-- GUEST_NAME: string (nullable = true)\n",
      " |-- EMAIL_ADDRESS: string (nullable = true)\n",
      " |-- BOOKING_NUMBER: string (nullable = true)\n",
      " |-- PHONE_NUM: long (nullable = true)\n",
      " |-- STREET_ADDRESS: string (nullable = true)\n",
      " |-- STATE: string (nullable = true)\n",
      " |-- BOOKING_DATE: timestamp (nullable = true)\n",
      " |-- DEPARTURE_DATE: timestamp (nullable = true)\n",
      " |-- source_file_name: string (nullable = false)\n",
      " |-- source_file_path: string (nullable = false)\n",
      " |-- file_modified_unix: double (nullable = false)\n",
      "\n"
     ]
    }
   ],
   "source": [
    "##set no-_data based on if df_staging_final has data or not\n",
    "\n",
    "if df_staging_final is not None and df_staging_final.head(1):\n",
    "    df_staging_final.show()\n",
    "    df_staging_final.printSchema()\n",
    "    no_data = False\n",
    "else:\n",
    "    no_data = True"
   ]
  },
  {
   "cell_type": "code",
   "execution_count": 156,
   "id": "a99fcace-8ade-43a9-a190-68b3620f86ea",
   "metadata": {},
   "outputs": [
    {
     "name": "stdout",
     "output_type": "stream",
     "text": [
      "✅ Deleted + inserted records into Delta table at C:/Users/Ronald/delta/bronze_output/\n"
     ]
    }
   ],
   "source": [
    "if no_data == False:\n",
    "\n",
    "# Define a window partitioned by BOOKING_NUMBER and ordered by file_modified_unix descending\n",
    "    window_spec = Window.partitionBy(\"BOOKING_NUMBER\").orderBy(desc(\"file_modified_unix\"))\n",
    "\n",
    "# Add a row number so we can pick the latest record per booking\n",
    "    df_ranked = df_staging_final.withColumn(\"row_num\", row_number().over(window_spec))\n",
    "\n",
    "# Filter to only the first (most recent) record for each BOOKING_NUMBER\n",
    "    df_delta = df_ranked.filter(\"row_num = 1\").drop(\"row_num\")\n",
    "\n",
    "## materialize df_delta to memory\n",
    "    df_delta = df_delta.cache()\n",
    "    df_delta.collect()\n",
    "    \n",
    "    \n",
    "##YOU CAN WRITE DATA VALIDATION OR CLEASINGS RULES HERE##\n",
    "\n",
    "#merge inremental records into bronze table\n",
    "    merge_into_delta_table(\n",
    "        df_new=df_delta,\n",
    "        delta_path=\"C:/Users/Ronald/delta/bronze_output/\",\n",
    "        spark=spark,\n",
    "        merge_keys=\"BOOKING_NUMBER\"\n",
    "    )\n",
    "\n",
    "    ##save data to stage path\n",
    "    df_delta.write.mode(\"overwrite\").option(\"overwriteSchema\", \"true\").format(\"delta\").save(stage_path)\n"
   ]
  },
  {
   "cell_type": "code",
   "execution_count": 157,
   "id": "65daf559-25a1-4a41-81d1-41790901588d",
   "metadata": {},
   "outputs": [],
   "source": [
    "##CUSTOMER AGGREGATE PROCESSING##    "
   ]
  },
  {
   "cell_type": "code",
   "execution_count": 158,
   "id": "eb35740e-2f40-4c2e-bf4e-2b93ee731d7b",
   "metadata": {},
   "outputs": [],
   "source": [
    "def load_incremental_data(df_delta, bronze_path, stage_path):\n",
    "    df_email_list = df_delta.select(\"EMAIL_HASH\").distinct()\n",
    "\n",
    "    df_bronze = spark.read.format(\"delta\").load(bronze_path)\n",
    "    return df_bronze.join(broadcast(df_email_list), on=\"EMAIL_HASH\", how=\"inner\")"
   ]
  },
  {
   "cell_type": "code",
   "execution_count": 159,
   "id": "62dd5f7c-045f-4d45-8720-8ca0113ed78f",
   "metadata": {},
   "outputs": [],
   "source": [
    "def load_full_data(bronze_path):\n",
    "    return spark.read.format(\"delta\").load(bronze_path)"
   ]
  },
  {
   "cell_type": "code",
   "execution_count": 160,
   "id": "f5efe300-bc0d-439a-81c1-927cbd51ad30",
   "metadata": {},
   "outputs": [],
   "source": [
    "def add_phone_metadata(df):\n",
    "    df = df.withColumn(\n",
    "        \"invalid_phone_ind\",\n",
    "        when(length(col(\"PHONE_NUM\").cast(\"string\")) != 10, True).otherwise(False)\n",
    "    )\n",
    "    df = df.withColumn(\n",
    "        \"area_code\",\n",
    "        when(length(col(\"PHONE_NUM\").cast(\"string\")) == 10,\n",
    "             substring(col(\"PHONE_NUM\").cast(\"string\"), 1, 3)\n",
    "        ).otherwise(None)\n",
    "    )\n",
    "    return df"
   ]
  },
  {
   "cell_type": "code",
   "execution_count": 161,
   "id": "ba760493-7e9a-44c1-bf87-e69d9df50fca",
   "metadata": {},
   "outputs": [],
   "source": [
    "def aggregate_customer_data(df):\n",
    "    w = Window.partitionBy(\"EMAIL_ADDRESS\").orderBy(col(\"BOOKING_DATE\").desc())\n",
    "\n",
    "    # Add latest values based on last BOOKING_DATE\n",
    "    df_with_last = df.withColumn(\"rn\", row_number().over(w)) \\\n",
    "        .withColumn(\"GUEST_NAME_LATEST\", first(\"GUEST_NAME\").over(w)) \\\n",
    "        .withColumn(\"PHONE_NUM_LATEST\", first(\"PHONE_NUM\").over(w)) \\\n",
    "        .withColumn(\"STREET_ADDRESS_LATEST\", first(\"STREET_ADDRESS\").over(w)) \\\n",
    "        .withColumn(\"STATE_LATEST\", first(\"STATE\").over(w)) \\\n",
    "        .withColumn(\"AREA_CODE_LATEST\", first(\"area_code\").over(w)) \\\n",
    "        .withColumn(\"INVALID_PHONE_IND_LATEST\", first(\"invalid_phone_ind\").over(w))\n",
    "    \n",
    "    # Group and aggregate\n",
    "    df_agg = df_with_last.groupBy(\"EMAIL_ADDRESS\").agg(\n",
    "        first(\"GUEST_NAME_LATEST\").alias(\"GUEST_NAME\"),\n",
    "        first(\"PHONE_NUM_LATEST\").alias(\"PHONE_NUM\"),\n",
    "        first(\"STREET_ADDRESS_LATEST\").alias(\"STREET_ADDRESS\"),\n",
    "        first(\"STATE_LATEST\").alias(\"STATE\"),\n",
    "        first(\"AREA_CODE_LATEST\").alias(\"AREA_CODE\"),\n",
    "        first(\"INVALID_PHONE_IND_LATEST\").alias(\"INVALID_PHONE_IND\"),\n",
    "        spark_min(\"BOOKING_DATE\").alias(\"FIRST_BOOKING_DATETIME\"),\n",
    "        spark_max(\"BOOKING_DATE\").alias(\"LAST_BOOKING_DATETIME\"),\n",
    "        spark_min(\"DEPARTURE_DATE\").alias(\"FIRST_DEPARTURE_DATETIME\"),\n",
    "        spark_max(\"DEPARTURE_DATE\").alias(\"LAST_DEPARTURE_DATETIME\"),\n",
    "        countDistinct(\"BOOKING_NUMBER\").alias(\"BOOKING_COUNT\"),\n",
    "        concat_ws(\",\", collect_list(\"BOOKING_NUMBER\")).alias(\"BOOKING_NUMBER_LIST\")\n",
    "    )\n",
    "    \n",
    "    # Add derived columns\n",
    "    df_agg = df_agg \\\n",
    "        .withColumn(\"FIRST_BOOKING_DATE\", to_date(\"FIRST_BOOKING_DATETIME\")) \\\n",
    "        .withColumn(\"LAST_BOOKING_DATE\", to_date(\"LAST_BOOKING_DATETIME\")) \\\n",
    "        .withColumn(\"FIRST_DEPARTURE_DATE\", to_date(\"FIRST_DEPARTURE_DATETIME\")) \\\n",
    "        .withColumn(\"LAST_DEPARTURE_DATE\", to_date(\"LAST_DEPARTURE_DATETIME\")) \\\n",
    "        .withColumn(\"FIRST_BOOKING_YEAR\", year(\"FIRST_BOOKING_DATE\")) \\\n",
    "        .withColumn(\"FIRST_BOOKING_MONTH\", month(\"FIRST_BOOKING_DATE\")) \\\n",
    "        .withColumn(\"FIRST_BOOKING_DAY_OF_WEEK\", date_format(\"FIRST_BOOKING_DATE\", \"EEEE\")) \\\n",
    "        .withColumn(\"LAST_BOOKING_YEAR\", year(\"LAST_BOOKING_DATE\")) \\\n",
    "        .withColumn(\"LAST_BOOKING_MONTH\", month(\"LAST_BOOKING_DATE\")) \\\n",
    "        .withColumn(\"LAST_BOOKING_DAY_OF_WEEK\", date_format(\"LAST_BOOKING_DATE\", \"EEEE\")) \\\n",
    "        .withColumn(\"EMAIL_HASH\", sha2(col(\"EMAIL_ADDRESS\"), 256))\n",
    "\n",
    "    # Reorder columns to put EMAIL_HASH first\n",
    "    cols = df_agg.columns\n",
    "    new_col_order = [\"EMAIL_HASH\"] + [col for col in cols if col != \"EMAIL_HASH\"]\n",
    "    return df_agg.select(*new_col_order)"
   ]
  },
  {
   "cell_type": "code",
   "execution_count": 163,
   "id": "d7b90a80-a764-4cac-84b9-6e747c05e860",
   "metadata": {},
   "outputs": [
    {
     "name": "stdout",
     "output_type": "stream",
     "text": [
      "✅ Deleted + inserted records into Delta table at C:/Users/Ronald/delta/customer_aggregate/\n",
      "Error moving data_engineer_viking_assessment.csv: [Errno 2] No such file or directory: 'C:\\\\Users\\\\Ronald\\\\data\\\\process\\\\data_engineer_viking_assessment.csv'\n"
     ]
    }
   ],
   "source": [
    "##AGGREGATE CUSTOMER DATA FOR INCREMENTAL OR FULL LOAD##\n",
    "\n",
    "if no_data == False or incremental_or_full == \"full\":\n",
    "\n",
    "    if incremental_or_full == \"incremental\":\n",
    "        df_cust_raw = load_incremental_data(df_delta, bronze_path, stage_path)\n",
    "                \n",
    "    elif incremental_or_full == \"full\":\n",
    "        df_cust_raw = load_full_data(bronze_path)\n",
    "\n",
    "        df_cust_raw = add_phone_metadata(df_cust_raw)\n",
    "        df_customer_agg = aggregate_customer_data(df_cust_raw)\n",
    "\n",
    "##YOU CAN WRITE DATA VALIDATION OR CLEASINGS RULES HERE##\n",
    "    \n",
    "    merge_into_delta_table(\n",
    "        df_new=df_customer_agg,\n",
    "        delta_path=output_path,\n",
    "        spark=spark,\n",
    "        merge_keys=\"EMAIL_HASH\"\n",
    "    )\n",
    "\n",
    "#Archive processed delta files \n",
    "    for file_name, file_path, file_ts in file_info:\n",
    "        try:\n",
    "            # Get file extension and base name\n",
    "            base, ext = os.path.splitext(file_name)\n",
    "\n",
    "            # Format timestamp (you can also use file_ts if it represents the file time)\n",
    "            timestamp_str = datetime.now().strftime(\"%Y%m%d_%H%M%S\")\n",
    "\n",
    "            # Create new filename with timestamp\n",
    "            new_file_name = f\"{base}_{timestamp_str}{ext}\"\n",
    "            \n",
    "            dest_path = os.path.join(archive_path, new_file_name)\n",
    "            shutil.move(file_path, dest_path)\n",
    "            print(f\"Moved: {file_name} → {dest_path}\")\n",
    "        except Exception as e:\n",
    "            print(f\"Error moving {file_name}: {e}\")\n",
    "        "
   ]
  },
  {
   "cell_type": "code",
   "execution_count": 164,
   "id": "b3436d55-49d7-423d-8b0b-5b5bc334293d",
   "metadata": {},
   "outputs": [
    {
     "data": {
      "text/plain": [
       "120001"
      ]
     },
     "execution_count": 164,
     "metadata": {},
     "output_type": "execute_result"
    }
   ],
   "source": [
    "df_bronze = spark.read.format(\"delta\").load(\"C:/Users/Ronald/delta/bronze_output/\")\n",
    "df_bronze.count()"
   ]
  },
  {
   "cell_type": "code",
   "execution_count": 165,
   "id": "8ddb5551-c69e-4b60-b7a0-fd1f2c55d56c",
   "metadata": {},
   "outputs": [
    {
     "data": {
      "text/plain": [
       "96000"
      ]
     },
     "execution_count": 165,
     "metadata": {},
     "output_type": "execute_result"
    }
   ],
   "source": [
    "df_cust_agg = spark.read.format(\"delta\").load(\"C:/Users/Ronald/delta/customer_aggregate/\")\n",
    "df_cust_agg.count()"
   ]
  },
  {
   "cell_type": "code",
   "execution_count": 167,
   "id": "52088fce-e0b6-46e8-937d-cfbedefc7207",
   "metadata": {},
   "outputs": [
    {
     "data": {
      "text/plain": [
       "[Row(EMAIL_HASH='8e510dfbe106af60b0a3a2cf05588035c9889f9acce0d0b494ec6983ecc30360', EMAIL_ADDRESS='aaguilar@example.net', PHONE_NUM=6015683839, STREET_ADDRESS='8922 Mitchell Key', STATE='Massachusetts', FIRST_BOOKING_DATETIME=datetime.datetime(2024, 2, 20, 0, 0), LAST_BOOKING_DATETIME=datetime.datetime(2024, 2, 20, 0, 0), FIRST_DEPARTURE_DATETIME=datetime.datetime(2024, 3, 18, 0, 0), LAST_DEPARTURE_DATETIME=datetime.datetime(2024, 3, 18, 0, 0), BOOKING_COUNT=1, AREA_CODE='601', INVALID_PHONE_IND=False, FIRST_BOOKING_DATE=datetime.date(2024, 2, 20), LAST_BOOKING_DATE=datetime.date(2024, 2, 20), FIRST_DEPARTURE_DATE=datetime.date(2024, 3, 18), LAST_DEPARTURE_DATE=datetime.date(2024, 3, 18), FIRST_BOOKING_YEAR=2024, FIRST_BOOKING_MONTH=2, FIRST_BOOKING_DAY_OF_WEEK='Tuesday', LAST_BOOKING_YEAR=2024, LAST_BOOKING_MONTH=2, LAST_BOOKING_DAY_OF_WEEK='Tuesday', GUEST_NAME='Michael Anderson', BOOKING_NUMBER_LIST='BOOK000032900'),\n",
       " Row(EMAIL_HASH='e1330a8f4e0e827365056140fa3b9cc7c8471def8dd4cffafc7f75d12192a3f5', EMAIL_ADDRESS='aallen@example.com', PHONE_NUM=9126184630, STREET_ADDRESS='80503 Tammy Pines Suite 677', STATE='Rhode Island', FIRST_BOOKING_DATETIME=datetime.datetime(2024, 9, 21, 0, 0), LAST_BOOKING_DATETIME=datetime.datetime(2024, 9, 27, 0, 0), FIRST_DEPARTURE_DATETIME=datetime.datetime(2024, 11, 18, 0, 0), LAST_DEPARTURE_DATETIME=datetime.datetime(2025, 8, 20, 0, 0), BOOKING_COUNT=2, AREA_CODE='912', INVALID_PHONE_IND=False, FIRST_BOOKING_DATE=datetime.date(2024, 9, 21), LAST_BOOKING_DATE=datetime.date(2024, 9, 27), FIRST_DEPARTURE_DATE=datetime.date(2024, 11, 18), LAST_DEPARTURE_DATE=datetime.date(2025, 8, 20), FIRST_BOOKING_YEAR=2024, FIRST_BOOKING_MONTH=9, FIRST_BOOKING_DAY_OF_WEEK='Saturday', LAST_BOOKING_YEAR=2024, LAST_BOOKING_MONTH=9, LAST_BOOKING_DAY_OF_WEEK='Friday', GUEST_NAME='James Mathews', BOOKING_NUMBER_LIST='BOOK00001008,BOOK000097554'),\n",
       " Row(EMAIL_HASH='ee026214d0755a2c0160baba6e5f8fa56ce725070bc9bd0c397a4386026d87e8', EMAIL_ADDRESS='aanderson@example.org', PHONE_NUM=7632152101, STREET_ADDRESS='44004 Jennifer Forge Suite 935', STATE='Mississippi', FIRST_BOOKING_DATETIME=datetime.datetime(2025, 2, 16, 0, 0), LAST_BOOKING_DATETIME=datetime.datetime(2025, 2, 16, 0, 0), FIRST_DEPARTURE_DATETIME=datetime.datetime(2025, 9, 17, 0, 0), LAST_DEPARTURE_DATETIME=datetime.datetime(2025, 9, 17, 0, 0), BOOKING_COUNT=1, AREA_CODE='763', INVALID_PHONE_IND=False, FIRST_BOOKING_DATE=datetime.date(2025, 2, 16), LAST_BOOKING_DATE=datetime.date(2025, 2, 16), FIRST_DEPARTURE_DATE=datetime.date(2025, 9, 17), LAST_DEPARTURE_DATE=datetime.date(2025, 9, 17), FIRST_BOOKING_YEAR=2025, FIRST_BOOKING_MONTH=2, FIRST_BOOKING_DAY_OF_WEEK='Sunday', LAST_BOOKING_YEAR=2025, LAST_BOOKING_MONTH=2, LAST_BOOKING_DAY_OF_WEEK='Sunday', GUEST_NAME='Christopher Turner DDS', BOOKING_NUMBER_LIST='BOOK000047940'),\n",
       " Row(EMAIL_HASH='5adff581dd88f00f353d06ddb073132e032e7f886fb4a1d46def99196d7b8682', EMAIL_ADDRESS='aarnold@example.net', PHONE_NUM=8551688210, STREET_ADDRESS='9937 Torres Lakes Apt. 939', STATE='Utah', FIRST_BOOKING_DATETIME=datetime.datetime(2023, 8, 7, 0, 0), LAST_BOOKING_DATETIME=datetime.datetime(2023, 8, 7, 0, 0), FIRST_DEPARTURE_DATETIME=datetime.datetime(2023, 9, 25, 0, 0), LAST_DEPARTURE_DATETIME=datetime.datetime(2023, 9, 25, 0, 0), BOOKING_COUNT=1, AREA_CODE='855', INVALID_PHONE_IND=False, FIRST_BOOKING_DATE=datetime.date(2023, 8, 7), LAST_BOOKING_DATE=datetime.date(2023, 8, 7), FIRST_DEPARTURE_DATE=datetime.date(2023, 9, 25), LAST_DEPARTURE_DATE=datetime.date(2023, 9, 25), FIRST_BOOKING_YEAR=2023, FIRST_BOOKING_MONTH=8, FIRST_BOOKING_DAY_OF_WEEK='Monday', LAST_BOOKING_YEAR=2023, LAST_BOOKING_MONTH=8, LAST_BOOKING_DAY_OF_WEEK='Monday', GUEST_NAME='Erin Carlson', BOOKING_NUMBER_LIST='BOOK000058653'),\n",
       " Row(EMAIL_HASH='69db7a61acaa034d7b842bc7d9be3538af8d106d7820c90991dd7751dfb52ea8', EMAIL_ADDRESS='aaron13@example.net', PHONE_NUM=9094521015, STREET_ADDRESS='747 Ronald Trafficway', STATE='New York', FIRST_BOOKING_DATETIME=datetime.datetime(2023, 9, 9, 0, 0), LAST_BOOKING_DATETIME=datetime.datetime(2024, 2, 18, 0, 0), FIRST_DEPARTURE_DATETIME=datetime.datetime(2023, 10, 23, 0, 0), LAST_DEPARTURE_DATETIME=datetime.datetime(2024, 5, 5, 0, 0), BOOKING_COUNT=2, AREA_CODE='909', INVALID_PHONE_IND=False, FIRST_BOOKING_DATE=datetime.date(2023, 9, 9), LAST_BOOKING_DATE=datetime.date(2024, 2, 18), FIRST_DEPARTURE_DATE=datetime.date(2023, 10, 23), LAST_DEPARTURE_DATE=datetime.date(2024, 5, 5), FIRST_BOOKING_YEAR=2023, FIRST_BOOKING_MONTH=9, FIRST_BOOKING_DAY_OF_WEEK='Saturday', LAST_BOOKING_YEAR=2024, LAST_BOOKING_MONTH=2, LAST_BOOKING_DAY_OF_WEEK='Sunday', GUEST_NAME='Daniel Estes', BOOKING_NUMBER_LIST='BOOK000029269,BOOK000099929')]"
      ]
     },
     "execution_count": 167,
     "metadata": {},
     "output_type": "execute_result"
    }
   ],
   "source": [
    "df_cust_agg.head(5)"
   ]
  },
  {
   "cell_type": "code",
   "execution_count": 168,
   "id": "a188441f-1ef9-47ee-80c3-06a0b5561394",
   "metadata": {},
   "outputs": [],
   "source": [
    "##BUSINESS INSIGHTS PROCESSING##"
   ]
  },
  {
   "cell_type": "code",
   "execution_count": 169,
   "id": "17046e4b-0728-4faf-a90c-865db8c62235",
   "metadata": {},
   "outputs": [],
   "source": [
    "def load_delta_table(spark: SparkSession, path: str) -> DataFrame:\n",
    "    return spark.read.format(\"delta\").load(path)\n",
    "\n",
    "def enrich_booking_dates(df: DataFrame) -> DataFrame:\n",
    "    return df.select(\n",
    "        col(\"STATE\"),\n",
    "        to_date(\"BOOKING_DATE\").alias(\"BOOKING_DATE\"),\n",
    "        year(\"BOOKING_DATE\").alias(\"BOOKING_YEAR\"),\n",
    "        month(\"BOOKING_DATE\").alias(\"BOOKING_MONTH\"),\n",
    "        dayofweek(\"BOOKING_DATE\").alias(\"BOOKING_DAY_OF_WEEK\"),\n",
    "        to_date(\"DEPARTURE_DATE\").alias(\"DEPARTURE_DATE\"),\n",
    "        year(\"DEPARTURE_DATE\").alias(\"DEPARTURE_YEAR\"),\n",
    "        month(\"DEPARTURE_DATE\").alias(\"DEPARTURE_MONTH\"),\n",
    "        dayofweek(\"DEPARTURE_DATE\").alias(\"DEPARTURE_DAY_OF_WEEK\"),\n",
    "        col(\"EMAIL_HASH\")\n",
    "    )\n",
    "\n",
    "def calculate_booking_metrics(df: DataFrame) -> DataFrame:\n",
    "    window_spec = Window.partitionBy(\"EMAIL_HASH\").orderBy(\"BOOKING_DATE\")\n",
    "    return df.withColumn(\"CUSTOMER_PREVIOUS_BOOKING_DATE\", lag(\"BOOKING_DATE\").over(window_spec)) \\\n",
    "             .withColumn(\"DAYS_FROM_PREVIOUS_BOOKING\", datediff(col(\"BOOKING_DATE\"), col(\"CUSTOMER_PREVIOUS_BOOKING_DATE\"))) \\\n",
    "             .withColumn(\"CUSTOMERS_BOOKING_ORDER\", row_number().over(window_spec))\n",
    "\n",
    "def join_customer_data(df_bookings: DataFrame, df_customers: DataFrame) -> DataFrame:\n",
    "    return df_bookings.join(\n",
    "        df_customers.select(\n",
    "            col(\"EMAIL_HASH\"),\n",
    "            col(\"STATE\").alias(\"CUSTOMERS_CURRENT_STATE\"),\n",
    "            col(\"AREA_CODE\").alias(\"CUSTOMERS_CURRENT_AREA_CODE\"),\n",
    "            col(\"LAST_BOOKING_DATE\")\n",
    "        ),\n",
    "        on=\"EMAIL_HASH\",\n",
    "        how=\"left\"\n",
    "    ).withColumn(\"CUSTOMERS_DAYS_FROM_LAST_BOOKING\", datediff(current_date(), col(\"LAST_BOOKING_DATE\")))\n",
    "\n",
    "def generate_business_insight(df: DataFrame) -> DataFrame:\n",
    "    return df.groupBy(\n",
    "        \"STATE\",\n",
    "        \"BOOKING_DATE\",\n",
    "        \"BOOKING_YEAR\",\n",
    "        \"BOOKING_MONTH\",\n",
    "        \"BOOKING_DAY_OF_WEEK\",\n",
    "        \"DEPARTURE_DATE\",\n",
    "        \"DEPARTURE_YEAR\",\n",
    "        \"DEPARTURE_MONTH\",\n",
    "        \"DEPARTURE_DAY_OF_WEEK\",\n",
    "        \"DAYS_FROM_PREVIOUS_BOOKING\",\n",
    "        \"CUSTOMERS_DAYS_FROM_LAST_BOOKING\",\n",
    "        \"CUSTOMERS_BOOKING_ORDER\",\n",
    "        \"CUSTOMERS_CURRENT_STATE\",\n",
    "        \"CUSTOMERS_CURRENT_AREA_CODE\"\n",
    "    ).agg(\n",
    "        count(\"*\").cast(\"long\").alias(\"BOOKING_COUNT\")\n",
    "    )\n",
    "\n",
    "def save_to_delta_table(df: DataFrame, path: str):\n",
    "    try:\n",
    "        df.write.format(\"delta\").mode(\"overwrite\").option(\"overwriteSchema\", \"true\").save(path)\n",
    "    \n",
    "        print(f\"✅ Table successfully created at {path}\")\n",
    "\n",
    "    except Exception as e:\n",
    "        print(f\"❌ Error in save_to_delta_table: {e}\")\n",
    "        raise"
   ]
  },
  {
   "cell_type": "code",
   "execution_count": 170,
   "id": "9b2486bc-2dc6-4038-8bcd-e1e42cb2aed0",
   "metadata": {},
   "outputs": [
    {
     "name": "stdout",
     "output_type": "stream",
     "text": [
      "✅ Table successfully created at C:/Users/Ronald/delta/business_insight/\n"
     ]
    }
   ],
   "source": [
    "## SYNC BUSINESS INSIGHTS (Full Run) ###\n",
    "\n",
    "df_bronze = load_delta_table(spark, \"C:/Users/Ronald/delta/bronze_output/\")\n",
    "df_customer = load_delta_table(spark, \"C:/Users/Ronald/delta/customer_aggregate/\")\n",
    "\n",
    "df_enriched = enrich_booking_dates(df_bronze)\n",
    "df_metrics = calculate_booking_metrics(df_enriched)\n",
    "df_with_customer = join_customer_data(df_metrics, df_customer)\n",
    "df_business_insight = generate_business_insight(df_with_customer)\n",
    "\n",
    "##YOU CAN WRITE DATA VALIDATION OR CLEASINGS RULES HERE##\n",
    "\n",
    "save_to_delta_table(df_business_insight, business_insights_path)"
   ]
  },
  {
   "cell_type": "code",
   "execution_count": 171,
   "id": "4d379608-dff6-4190-b983-835cf4d4d46b",
   "metadata": {},
   "outputs": [],
   "source": [
    "##BUSINESS INSIGHTS USE CASES##"
   ]
  },
  {
   "cell_type": "code",
   "execution_count": 172,
   "id": "2f3eddcb-8d2c-42e1-925d-5f3f002c6172",
   "metadata": {},
   "outputs": [
    {
     "name": "stdout",
     "output_type": "stream",
     "text": [
      "+--------------+\n",
      "|TOTAL_BOOKINGS|\n",
      "+--------------+\n",
      "|        120001|\n",
      "+--------------+\n",
      "\n"
     ]
    }
   ],
   "source": [
    "##CHECK COUNTS AND SUM##\n",
    "df_business_insight.agg(spark_sum(\"BOOKING_COUNT\").alias(\"TOTAL_BOOKINGS\")).show()\n"
   ]
  },
  {
   "cell_type": "code",
   "execution_count": 173,
   "id": "16cdb147-622f-40e2-a863-c7eb04acd12b",
   "metadata": {},
   "outputs": [
    {
     "name": "stdout",
     "output_type": "stream",
     "text": [
      "+--------------------------+--------------+\n",
      "|DAYS_FROM_PREVIOUS_BOOKING|TOTAL_BOOKINGS|\n",
      "+--------------------------+--------------+\n",
      "|                      null|         96000|\n",
      "|                         0|            50|\n",
      "|                         1|            96|\n",
      "|                         2|            94|\n",
      "|                         3|            96|\n",
      "|                         4|            90|\n",
      "|                         5|           102|\n",
      "|                         6|            88|\n",
      "|                         7|            91|\n",
      "|                         8|            93|\n",
      "|                         9|            85|\n",
      "|                        10|            75|\n",
      "|                        11|            78|\n",
      "|                        12|            95|\n",
      "|                        13|           116|\n",
      "|                        14|            79|\n",
      "|                        15|            85|\n",
      "|                        16|            90|\n",
      "|                        17|            89|\n",
      "|                        18|            69|\n",
      "+--------------------------+--------------+\n",
      "only showing top 20 rows\n",
      "\n"
     ]
    }
   ],
   "source": [
    "## DAYS BETWEEN BOOKINGS FOR REPEAT BOOKERS ##\n",
    "\n",
    "df_business_insight \\\n",
    "    .groupBy(\"DAYS_FROM_PREVIOUS_BOOKING\") \\\n",
    "    .agg(spark_sum(\"BOOKING_COUNT\").alias(\"TOTAL_BOOKINGS\")) \\\n",
    "    .orderBy(col(\"DAYS_FROM_PREVIOUS_BOOKING\").asc()) \\\n",
    "    .show()"
   ]
  },
  {
   "cell_type": "code",
   "execution_count": 174,
   "id": "ac1c9f35-fae5-4676-bc35-17abce065c57",
   "metadata": {},
   "outputs": [
    {
     "name": "stdout",
     "output_type": "stream",
     "text": [
      "+-----------+--------------+\n",
      "|DAYS_BUCKET|TOTAL_BOOKINGS|\n",
      "+-----------+--------------+\n",
      "|      0-100|          8189|\n",
      "|    101-200|          5860|\n",
      "|    201-300|          4148|\n",
      "|    301-400|          2639|\n",
      "|    401-500|          1665|\n",
      "|    501-600|          1034|\n",
      "|    601-700|           444|\n",
      "|       700+|         96022|\n",
      "+-----------+--------------+\n",
      "\n"
     ]
    }
   ],
   "source": [
    "## DAYS BETWEEN BOOKINGS GROUPING FOR REPEAT BOOKERS ##\n",
    "\n",
    "df_business_insight \\\n",
    "    .withColumn(\n",
    "        \"DAYS_BUCKET\",\n",
    "        when(col(\"DAYS_FROM_PREVIOUS_BOOKING\").between(0, 100), \"0-100\")\n",
    "        .when(col(\"DAYS_FROM_PREVIOUS_BOOKING\").between(101, 200), \"101-200\")\n",
    "        .when(col(\"DAYS_FROM_PREVIOUS_BOOKING\").between(201, 300), \"201-300\")\n",
    "        .when(col(\"DAYS_FROM_PREVIOUS_BOOKING\").between(301, 400), \"301-400\")\n",
    "        .when(col(\"DAYS_FROM_PREVIOUS_BOOKING\").between(401, 500), \"401-500\")\n",
    "        .when(col(\"DAYS_FROM_PREVIOUS_BOOKING\").between(501, 600), \"501-600\")\n",
    "        .when(col(\"DAYS_FROM_PREVIOUS_BOOKING\").between(601, 700), \"601-700\")\n",
    "        .otherwise(\"700+\")\n",
    "    ) \\\n",
    "    .groupBy(\"DAYS_BUCKET\") \\\n",
    "    .agg(spark_sum(\"BOOKING_COUNT\").alias(\"TOTAL_BOOKINGS\")) \\\n",
    "    .orderBy(\"DAYS_BUCKET\") \\\n",
    "    .show()"
   ]
  },
  {
   "cell_type": "code",
   "execution_count": 175,
   "id": "6bc3e12d-7c28-4986-b05a-2998275d632c",
   "metadata": {},
   "outputs": [
    {
     "name": "stdout",
     "output_type": "stream",
     "text": [
      "+-------------+--------------+\n",
      "|        STATE|TOTAL_BOOKINGS|\n",
      "+-------------+--------------+\n",
      "|      Georgia|          2512|\n",
      "|     Oklahoma|          2505|\n",
      "|    Louisiana|          2500|\n",
      "|        Idaho|          2490|\n",
      "|New Hampshire|          2481|\n",
      "|    Tennessee|          2480|\n",
      "|       Kansas|          2478|\n",
      "|       Nevada|          2471|\n",
      "|         Utah|          2471|\n",
      "|     Kentucky|          2460|\n",
      "|         Iowa|          2459|\n",
      "|      Wyoming|          2459|\n",
      "|Massachusetts|          2454|\n",
      "|     Virginia|          2442|\n",
      "|       Oregon|          2442|\n",
      "|         Ohio|          2440|\n",
      "|       Hawaii|          2438|\n",
      "| Pennsylvania|          2437|\n",
      "|      Vermont|          2434|\n",
      "| South Dakota|          2430|\n",
      "+-------------+--------------+\n",
      "only showing top 20 rows\n",
      "\n"
     ]
    }
   ],
   "source": [
    "##Bookings by States\n",
    "df_business_insight \\\n",
    "    .groupBy(\"STATE\") \\\n",
    "    .agg(spark_sum(\"BOOKING_COUNT\").alias(\"TOTAL_BOOKINGS\")) \\\n",
    "    .orderBy(col(\"TOTAL_BOOKINGS\").desc()) \\\n",
    "    .show()"
   ]
  },
  {
   "cell_type": "code",
   "execution_count": 176,
   "id": "85b544f0-e593-4076-8977-76572683c72a",
   "metadata": {},
   "outputs": [
    {
     "name": "stdout",
     "output_type": "stream",
     "text": [
      "+-----------------------+--------------+\n",
      "|CUSTOMERS_BOOKING_ORDER|TOTAL_BOOKINGS|\n",
      "+-----------------------+--------------+\n",
      "|                      1|         96000|\n",
      "|                      2|         21200|\n",
      "|                      3|          2566|\n",
      "|                      4|           221|\n",
      "|                      5|            14|\n",
      "+-----------------------+--------------+\n",
      "\n"
     ]
    }
   ],
   "source": [
    "## NUMBER OF REPEAT CUSTOMERS\n",
    "df_business_insight \\\n",
    "    .groupBy(\"CUSTOMERS_BOOKING_ORDER\") \\\n",
    "    .agg(spark_sum(\"BOOKING_COUNT\").alias(\"TOTAL_BOOKINGS\")) \\\n",
    "    .orderBy(col(\"CUSTOMERS_BOOKING_ORDER\").asc()) \\\n",
    "    .show()"
   ]
  },
  {
   "cell_type": "code",
   "execution_count": 177,
   "id": "a72d1f54-0809-40d5-90cb-31a3f2b417c0",
   "metadata": {},
   "outputs": [
    {
     "name": "stdout",
     "output_type": "stream",
     "text": [
      "+-------------+--------------+\n",
      "|BOOKING_MONTH|TOTAL_BOOKINGS|\n",
      "+-------------+--------------+\n",
      "|            1|         10170|\n",
      "|            2|          9298|\n",
      "|            3|         10153|\n",
      "|            4|          9678|\n",
      "|            5|         10356|\n",
      "|            6|          9908|\n",
      "|            7|         10076|\n",
      "|            8|         10188|\n",
      "|            9|          9737|\n",
      "|           10|         10133|\n",
      "|           11|         10184|\n",
      "|           12|         10120|\n",
      "+-------------+--------------+\n",
      "\n"
     ]
    }
   ],
   "source": [
    "## BOOKINGS BY MONTH FOR SEASONALITY\n",
    "df_business_insight \\\n",
    "    .groupBy(\"BOOKING_MONTH\") \\\n",
    "    .agg(spark_sum(\"BOOKING_COUNT\").alias(\"TOTAL_BOOKINGS\")) \\\n",
    "    .orderBy(col(\"BOOKING_MONTH\").asc()) \\\n",
    "    .show()"
   ]
  },
  {
   "cell_type": "code",
   "execution_count": null,
   "id": "a66737b3-a38d-49e9-980e-0b50294f2108",
   "metadata": {},
   "outputs": [],
   "source": []
  },
  {
   "cell_type": "code",
   "execution_count": null,
   "id": "26e42508-473e-4de1-baff-05b78403e106",
   "metadata": {},
   "outputs": [],
   "source": [
    "## ADDENDUM ##"
   ]
  },
  {
   "cell_type": "code",
   "execution_count": null,
   "id": "378ffa08-b1f1-4fa7-9227-7ffe773c7996",
   "metadata": {},
   "outputs": [],
   "source": [
    "#####DATA VALIDATION CHECKS ######"
   ]
  },
  {
   "cell_type": "code",
   "execution_count": 15,
   "id": "f7b00553-f2ee-4e30-b31b-50780c981fab",
   "metadata": {},
   "outputs": [
    {
     "name": "stdout",
     "output_type": "stream",
     "text": [
      "+--------------+-----+\n",
      "|BOOKING_NUMBER|count|\n",
      "+--------------+-----+\n",
      "+--------------+-----+\n",
      "\n"
     ]
    }
   ],
   "source": [
    "##CHECK FOR DUPLIDATE BOOKING NUMBERS\n",
    "\n",
    "df_delta.groupBy(\"BOOKING_NUMBER\").count().filter(\"count > 1\").show()"
   ]
  },
  {
   "cell_type": "code",
   "execution_count": 16,
   "id": "65dfb02e-f84d-477c-b2dd-677fb541d3eb",
   "metadata": {},
   "outputs": [
    {
     "name": "stdout",
     "output_type": "stream",
     "text": [
      "+----------+-------------+--------------+---------+--------------+-----+------------+--------------+----------------+----------------+------------------+\n",
      "|GUEST_NAME|EMAIL_ADDRESS|BOOKING_NUMBER|PHONE_NUM|STREET_ADDRESS|STATE|BOOKING_DATE|DEPARTURE_DATE|source_file_name|source_file_path|file_modified_unix|\n",
      "+----------+-------------+--------------+---------+--------------+-----+------------+--------------+----------------+----------------+------------------+\n",
      "+----------+-------------+--------------+---------+--------------+-----+------------+--------------+----------------+----------------+------------------+\n",
      "\n"
     ]
    }
   ],
   "source": [
    "##CHECK FOR NULL VALUES\n",
    "df_nulls = df_bronze.filter(\n",
    "    col(\"EMAIL_ADDRESS\").isNull() |\n",
    "    col(\"PHONE_NUM\").isNull() |\n",
    "    col(\"STREET_ADDRESS\").isNull() |\n",
    "    col(\"STATE\").isNull() |\n",
    "    col(\"BOOKING_NUMBER\").isNull() |\n",
    "    col(\"BOOKING_DATE\").isNull() |\n",
    "    col(\"DEPARTURE_DATE\").isNull()\n",
    ")\n",
    "df_nulls.show(truncate=False)"
   ]
  },
  {
   "cell_type": "code",
   "execution_count": 17,
   "id": "f864c60b-4b96-4384-b30c-d80e26808b32",
   "metadata": {},
   "outputs": [
    {
     "name": "stdout",
     "output_type": "stream",
     "text": [
      "+----------+-------------+--------------+---------+--------------+-----+------------+--------------+----------------+----------------+------------------+\n",
      "|GUEST_NAME|EMAIL_ADDRESS|BOOKING_NUMBER|PHONE_NUM|STREET_ADDRESS|STATE|BOOKING_DATE|DEPARTURE_DATE|source_file_name|source_file_path|file_modified_unix|\n",
      "+----------+-------------+--------------+---------+--------------+-----+------------+--------------+----------------+----------------+------------------+\n",
      "+----------+-------------+--------------+---------+--------------+-----+------------+--------------+----------------+----------------+------------------+\n",
      "\n"
     ]
    }
   ],
   "source": [
    "##CHECK FOR BLANK VALUES\n",
    "df_blanks = df_bronze.filter(\n",
    "    (col(\"EMAIL_ADDRESS\") == \"\") |\n",
    "    (col(\"STREET_ADDRESS\") == \"\") |\n",
    "    (col(\"STATE\") == \"\") |\n",
    "    (col(\"BOOKING_NUMBER\") == \"\")\n",
    ")\n",
    "df_blanks.show(truncate=False)"
   ]
  },
  {
   "cell_type": "code",
   "execution_count": 18,
   "id": "71fd8a14-9041-46e6-b9eb-6f5ad0d1172d",
   "metadata": {},
   "outputs": [
    {
     "name": "stdout",
     "output_type": "stream",
     "text": [
      "+----------+-------------+--------------+---------+--------------+-----+------------+--------------+----------------+----------------+------------------+\n",
      "|GUEST_NAME|EMAIL_ADDRESS|BOOKING_NUMBER|PHONE_NUM|STREET_ADDRESS|STATE|BOOKING_DATE|DEPARTURE_DATE|source_file_name|source_file_path|file_modified_unix|\n",
      "+----------+-------------+--------------+---------+--------------+-----+------------+--------------+----------------+----------------+------------------+\n",
      "+----------+-------------+--------------+---------+--------------+-----+------------+--------------+----------------+----------------+------------------+\n",
      "\n"
     ]
    }
   ],
   "source": [
    "##CHECK FOR LEADING OR TRAILING SPACES\n",
    "\n",
    "df_spaces = df_bronze.filter(\n",
    "    (col(\"EMAIL_ADDRESS\") != trim(col(\"EMAIL_ADDRESS\"))) |\n",
    "    (col(\"STREET_ADDRESS\") != trim(col(\"STREET_ADDRESS\"))) |\n",
    "    (col(\"STATE\") != trim(col(\"STATE\"))) |\n",
    "    (col(\"BOOKING_NUMBER\") != trim(col(\"BOOKING_NUMBER\")))\n",
    ")\n",
    "\n",
    "df_spaces.show(truncate=False)"
   ]
  },
  {
   "cell_type": "code",
   "execution_count": 118,
   "id": "5ed47288-fc0b-4bbe-af3b-55a834e1e310",
   "metadata": {},
   "outputs": [
    {
     "name": "stdout",
     "output_type": "stream",
     "text": [
      "+----------+-------------+--------------+---------+--------------+-----+------------+--------------+----------+-----------------+---------+\n",
      "|GUEST_NAME|EMAIL_ADDRESS|BOOKING_NUMBER|PHONE_NUM|STREET_ADDRESS|STATE|BOOKING_DATE|DEPARTURE_DATE|email_hash|invalid_phone_ind|area_code|\n",
      "+----------+-------------+--------------+---------+--------------+-----+------------+--------------+----------+-----------------+---------+\n",
      "+----------+-------------+--------------+---------+--------------+-----+------------+--------------+----------+-----------------+---------+\n",
      "\n"
     ]
    }
   ],
   "source": [
    "df_only_internal_spaces =df_bronze.filter(\n",
    "    (col(\"EMAIL_ADDRESS\").contains(\" \")) &  # any space at all\n",
    "    (col(\"EMAIL_ADDRESS\") == trim(col(\"EMAIL_ADDRESS\")))  # no leading/trailing\n",
    ")\n",
    "\n",
    "df_only_internal_spaces.show(truncate=False)"
   ]
  },
  {
   "cell_type": "code",
   "execution_count": 14,
   "id": "7b368fff-2384-445c-a213-f32dcc6bcbdd",
   "metadata": {},
   "outputs": [],
   "source": [
    "#####DATA PROFILING#######"
   ]
  },
  {
   "cell_type": "code",
   "execution_count": null,
   "id": "3dc1d7c6-0c66-427f-9e6b-39d6d0cb8111",
   "metadata": {},
   "outputs": [],
   "source": [
    "##CHECK BOOKING DATE and DEPARTURE DATE VALUES\n",
    "\n",
    "df_bronze.select(\n",
    "    min(\"BOOKING_DATE\").alias(\"min_booking_date\"),\n",
    "    max(\"BOOKING_DATE\").alias(\"max_booking_date\"),\n",
    "    min(\"DEPARTURE_DATE\").alias(\"min_departure_date\"),\n",
    "    max(\"DEPARTURE_DATE\").alias(\"max_departure_date\")\n",
    ").show()"
   ]
  },
  {
   "cell_type": "code",
   "execution_count": 77,
   "id": "a29cdeba-e2b6-4d12-8a2a-66dc3994359e",
   "metadata": {},
   "outputs": [
    {
     "name": "stdout",
     "output_type": "stream",
     "text": [
      "+--------------+\n",
      "|STATE         |\n",
      "+--------------+\n",
      "|Alabama       |\n",
      "|Alaska        |\n",
      "|Arizona       |\n",
      "|Arkansas      |\n",
      "|California    |\n",
      "|Colorado      |\n",
      "|Connecticut   |\n",
      "|Delaware      |\n",
      "|Florida       |\n",
      "|Georgia       |\n",
      "|Hawaii        |\n",
      "|Idaho         |\n",
      "|Illinois      |\n",
      "|Indiana       |\n",
      "|Iowa          |\n",
      "|Kansas        |\n",
      "|Kentucky      |\n",
      "|Louisiana     |\n",
      "|Maine         |\n",
      "|Maryland      |\n",
      "|Massachusetts |\n",
      "|Michigan      |\n",
      "|Minnesota     |\n",
      "|Mississippi   |\n",
      "|Missouri      |\n",
      "|Montana       |\n",
      "|Nebraska      |\n",
      "|Nevada        |\n",
      "|New Hampshire |\n",
      "|New Jersey    |\n",
      "|New Mexico    |\n",
      "|New York      |\n",
      "|North Carolina|\n",
      "|North Dakota  |\n",
      "|Ohio          |\n",
      "|Oklahoma      |\n",
      "|Oregon        |\n",
      "|Pennsylvania  |\n",
      "|Rhode Island  |\n",
      "|South Carolina|\n",
      "|South Dakota  |\n",
      "|Tennessee     |\n",
      "|Texas         |\n",
      "|Utah          |\n",
      "|Vermont       |\n",
      "|Virginia      |\n",
      "|Washington    |\n",
      "|West Virginia |\n",
      "|Wisconsin     |\n",
      "|Wyoming       |\n",
      "+--------------+\n",
      "\n"
     ]
    }
   ],
   "source": [
    "df.select(\"STATE\").distinct().orderBy(\"STATE\").show(60,truncate=False)"
   ]
  },
  {
   "cell_type": "code",
   "execution_count": 6,
   "id": "028e57a0-99f0-4c69-92b3-0693e93cf868",
   "metadata": {},
   "outputs": [
    {
     "name": "stdout",
     "output_type": "stream",
     "text": [
      "+-------------------------+-----+\n",
      "|EMAIL_ADDRESS            |count|\n",
      "+-------------------------+-----+\n",
      "|smithjennifer@example.net|5    |\n",
      "|thomasyoder@example.net  |5    |\n",
      "|jennifer07@example.net   |5    |\n",
      "|toni63@example.com       |5    |\n",
      "|chungstacey@example.org  |5    |\n",
      "|fieldsnancy@example.org  |5    |\n",
      "|emilymatthews@example.net|5    |\n",
      "|phillipsemily@example.org|5    |\n",
      "|peterwagner@example.org  |5    |\n",
      "|vvincent@example.com     |5    |\n",
      "|marco25@example.net      |5    |\n",
      "|welchkelly@example.org   |5    |\n",
      "|lorraine59@example.com   |5    |\n",
      "|daviskimberly@example.net|5    |\n",
      "|mooreangelica@example.com|4    |\n",
      "|garzajennifer@example.com|4    |\n",
      "|charlotte86@example.org  |4    |\n",
      "|elizabeth62@example.com  |4    |\n",
      "|jonesmary@example.org    |4    |\n",
      "|gcooper@example.org      |4    |\n",
      "+-------------------------+-----+\n",
      "only showing top 20 rows\n"
     ]
    }
   ],
   "source": [
    "df_email = df.groupBy(\"EMAIL_ADDRESS\") \\\n",
    "  .count() \\\n",
    "  .filter(\"count > 1\") \\\n",
    "  .orderBy(\"count\", ascending=False)\n",
    "\n",
    "df_email.show(truncate=False)"
   ]
  },
  {
   "cell_type": "code",
   "execution_count": 7,
   "id": "afb8df52-9fdc-48d5-ae55-287305511f5b",
   "metadata": {},
   "outputs": [
    {
     "name": "stdout",
     "output_type": "stream",
     "text": [
      "+-----+-----+\n",
      "|count|count|\n",
      "+-----+-----+\n",
      "|    2|18634|\n",
      "|    3| 2346|\n",
      "|    4|  206|\n",
      "|    5|   14|\n",
      "+-----+-----+\n",
      "\n"
     ]
    }
   ],
   "source": [
    "df_email.groupBy(\"count\") \\\n",
    "    .count() \\\n",
    "    .orderBy(\"count\") \\\n",
    "    .show()"
   ]
  },
  {
   "cell_type": "code",
   "execution_count": 8,
   "id": "028aa98c-a00a-4ba9-9999-00973622bfd3",
   "metadata": {},
   "outputs": [
    {
     "name": "stdout",
     "output_type": "stream",
     "text": [
      "+------------+--------------------+--------------+----------+--------------------+--------+------------+--------------+\n",
      "|  GUEST_NAME|       EMAIL_ADDRESS|BOOKING_NUMBER| PHONE_NUM|      STREET_ADDRESS|   STATE|BOOKING_DATE|DEPARTURE_DATE|\n",
      "+------------+--------------------+--------------+----------+--------------------+--------+------------+--------------+\n",
      "|Dawn Walters|smithjennifer@exa...|  BOOK00001758|3139241653|64277 Ponce Flats...|Maryland|  2024-01-22|    2024-05-04|\n",
      "|Dawn Walters|smithjennifer@exa...| BOOK000098795|3139241653|64277 Ponce Flats...|Maryland|  2025-02-20|    2025-05-02|\n",
      "|Dawn Walters|smithjennifer@exa...| BOOK000099623|3139241653|64277 Ponce Flats...|Maryland|  2024-11-02|    2026-01-08|\n",
      "|Dawn Walters|smithjennifer@exa...|BOOK0000109233|3139241653|64277 Ponce Flats...|Maryland|  2024-01-25|    2024-05-26|\n",
      "|Dawn Walters|smithjennifer@exa...|BOOK0000113432|3139241653|64277 Ponce Flats...|Maryland|  2024-11-08|    2025-02-17|\n",
      "+------------+--------------------+--------------+----------+--------------------+--------+------------+--------------+\n",
      "\n"
     ]
    }
   ],
   "source": [
    "df.filter(df.EMAIL_ADDRESS == \"smithjennifer@example.net\").show()"
   ]
  },
  {
   "cell_type": "code",
   "execution_count": 9,
   "id": "681509e6-005b-4179-869f-3bcaee4c4337",
   "metadata": {},
   "outputs": [
    {
     "name": "stdout",
     "output_type": "stream",
     "text": [
      "+-------------+--------------+\n",
      "|EMAIL_ADDRESS|street_address|\n",
      "+-------------+--------------+\n",
      "+-------------+--------------+\n",
      "\n"
     ]
    }
   ],
   "source": [
    "df.groupBy(\"EMAIL_ADDRESS\") \\\n",
    "  .agg(countDistinct(\"STREET_ADDRESS\").alias(\"street_address\")) \\\n",
    "  .filter(col(\"street_address\") > 1) \\\n",
    "  .orderBy(\"street_address\", ascending=False) \\\n",
    "  .show(truncate=False)"
   ]
  },
  {
   "cell_type": "code",
   "execution_count": 10,
   "id": "1251439a-3054-45ab-aecb-bf7500435b2b",
   "metadata": {},
   "outputs": [
    {
     "name": "stdout",
     "output_type": "stream",
     "text": [
      "+-------------+-------------+\n",
      "|EMAIL_ADDRESS|unique_phones|\n",
      "+-------------+-------------+\n",
      "+-------------+-------------+\n",
      "\n"
     ]
    }
   ],
   "source": [
    "df.groupBy(\"EMAIL_ADDRESS\") \\\n",
    "  .agg(countDistinct(\"PHONE_NUM\").alias(\"unique_phones\")) \\\n",
    "  .filter(col(\"unique_phones\") > 1) \\\n",
    "  .orderBy(\"unique_phones\", ascending=False) \\\n",
    "  .show(truncate=False)"
   ]
  },
  {
   "cell_type": "code",
   "execution_count": 11,
   "id": "385efe11-5c28-47e7-910c-c8e02ac492b7",
   "metadata": {},
   "outputs": [
    {
     "name": "stdout",
     "output_type": "stream",
     "text": [
      "+-------------+------------+\n",
      "|EMAIL_ADDRESS|unique_state|\n",
      "+-------------+------------+\n",
      "+-------------+------------+\n",
      "\n"
     ]
    }
   ],
   "source": [
    "df.groupBy(\"EMAIL_ADDRESS\") \\\n",
    "  .agg(countDistinct(\"STATE\").alias(\"unique_state\")) \\\n",
    "  .filter(col(\"unique_state\") > 1) \\\n",
    "  .orderBy(\"unique_state\", ascending=False) \\\n",
    "  .show(truncate=False)"
   ]
  },
  {
   "cell_type": "code",
   "execution_count": 78,
   "id": "dd207198-e047-4556-b59f-0a87cd2a9b05",
   "metadata": {},
   "outputs": [
    {
     "name": "stdout",
     "output_type": "stream",
     "text": [
      "+---------+-------------+\n",
      "|PHONE_NUM|email_address|\n",
      "+---------+-------------+\n",
      "+---------+-------------+\n",
      "\n"
     ]
    }
   ],
   "source": [
    "df.groupBy(\"PHONE_NUM\") \\\n",
    "  .agg(countDistinct(\"EMAIL_ADDRESS\").alias(\"email_address\")) \\\n",
    "  .filter(col(\"email_address\") > 1) \\\n",
    "  .orderBy(\"email_address\", ascending=False) \\\n",
    "  .show(truncate=False)"
   ]
  },
  {
   "cell_type": "code",
   "execution_count": 21,
   "id": "6f30e509-9614-400c-acfd-fb0549145488",
   "metadata": {},
   "outputs": [
    {
     "name": "stdout",
     "output_type": "stream",
     "text": [
      "+-----------------+-------------+\n",
      "|STREET_ADDRESS   |email_address|\n",
      "+-----------------+-------------+\n",
      "|394 Daniel Course|2            |\n",
      "+-----------------+-------------+\n",
      "\n"
     ]
    }
   ],
   "source": [
    "df.groupBy(\"STREET_ADDRESS\") \\\n",
    "  .agg(countDistinct(\"EMAIL_ADDRESS\").alias(\"email_address\")) \\\n",
    "  .filter(col(\"email_address\") > 1) \\\n",
    "  .orderBy(\"email_address\", ascending=False) \\\n",
    "  .show(truncate=False)"
   ]
  },
  {
   "cell_type": "code",
   "execution_count": 23,
   "id": "04d012a2-4ffc-4589-b0d1-2bc8710be859",
   "metadata": {},
   "outputs": [
    {
     "name": "stdout",
     "output_type": "stream",
     "text": [
      "+------------------+--------------------+--------------+----------+-----------------+--------+------------+--------------+--------------------+\n",
      "|        GUEST_NAME|       EMAIL_ADDRESS|BOOKING_NUMBER| PHONE_NUM|   STREET_ADDRESS|   STATE|BOOKING_DATE|DEPARTURE_DATE|          email_hash|\n",
      "+------------------+--------------------+--------------+----------+-----------------+--------+------------+--------------+--------------------+\n",
      "|   Joseph Bradford|jenniferallen@exa...|  BOOK00009992|1382729454|394 Daniel Course| Vermont|  2024-08-23|    2025-09-08|7c1da51a43b49e7c8...|\n",
      "|Jacqueline Mcclure| barry93@example.com| BOOK000061242|2785662120|394 Daniel Course|Illinois|  2024-07-04|    2024-09-06|6d01a34353bb93ac6...|\n",
      "+------------------+--------------------+--------------+----------+-----------------+--------+------------+--------------+--------------------+\n",
      "\n"
     ]
    }
   ],
   "source": [
    "df.filter(df.STREET_ADDRESS == \"394 Daniel Course\").show()"
   ]
  },
  {
   "cell_type": "code",
   "execution_count": 113,
   "id": "a515a483-95a3-4119-ae4f-108c6bc08394",
   "metadata": {},
   "outputs": [],
   "source": [
    "#####TYPE 2 CUSTOMER DIMENSION#####"
   ]
  },
  {
   "cell_type": "code",
   "execution_count": null,
   "id": "ca3d15df-8758-402d-824f-21168ffb9f55",
   "metadata": {},
   "outputs": [],
   "source": [
    "df_customer_raw = df.select(\n",
    "    \"EMAIL_ADDRESS\", \"BOOKING_DATE\", \"PHONE_NUM\", \"STREET_ADDRESS\", \"STATE\"\n",
    ").withColumn(\"EMAIL_HASH\", sha2(col(\"EMAIL_ADDRESS\"), 256)) \\\n",
    " .withColumn(\"BOOKING_DATE\", to_date(\"BOOKING_DATE\"))"
   ]
  },
  {
   "cell_type": "code",
   "execution_count": 106,
   "id": "6b84a3c8-5fc7-46bd-a5e7-844c6b98ac8c",
   "metadata": {},
   "outputs": [],
   "source": [
    "w = Window.partitionBy(\"EMAIL_ADDRESS\").orderBy(\"BOOKING_DATE\")\n",
    "\n",
    "df_cust_changes = df_customer_raw.withColumn(\"prev_phone\", lag(\"PHONE_NUM\").over(w)) \\\n",
    "    .withColumn(\"prev_address\", lag(\"STREET_ADDRESS\").over(w)) \\\n",
    "    .withColumn(\"prev_state\", lag(\"STATE\").over(w)) \\\n",
    "    .withColumn(\"change_flag\",\n",
    "        when(\n",
    "            (col(\"PHONE_NUM\") != col(\"prev_phone\")) |\n",
    "            (col(\"STREET_ADDRESS\") != col(\"prev_address\")) |\n",
    "            (col(\"STATE\") != col(\"prev_state\")) |\n",
    "            col(\"prev_phone\").isNull(), 1\n",
    "        ).otherwise(0)\n",
    "    )"
   ]
  },
  {
   "cell_type": "code",
   "execution_count": 107,
   "id": "6b188909-2cf9-4c89-a4fc-e711e5717b86",
   "metadata": {},
   "outputs": [
    {
     "name": "stdout",
     "output_type": "stream",
     "text": [
      "+--------------------+------------+----------+--------------------+--------------+--------------------+----------+--------------------+----------+-----------+\n",
      "|       EMAIL_ADDRESS|BOOKING_DATE| PHONE_NUM|      STREET_ADDRESS|         STATE|          EMAIL_HASH|prev_phone|        prev_address|prev_state|change_flag|\n",
      "+--------------------+------------+----------+--------------------+--------------+--------------------+----------+--------------------+----------+-----------+\n",
      "|aanderson@example...|  2024-09-09|6943205203|106 Gardner Glen ...|North Carolina|40331fbae5b342bad...|      NULL|                NULL|      NULL|          1|\n",
      "| aaron06@example.com|  2024-03-28|8297194934|  884 Miranda Course|      Illinois|5c7f10bf6e36ce15c...|      NULL|                NULL|      NULL|          1|\n",
      "| aaron35@example.org|  2024-01-27|8075129060|      738 Heath Ways|       Arizona|fac1754a2d086513f...|      NULL|                NULL|      NULL|          1|\n",
      "| aaron49@example.net|  2025-02-11|2679651914|  81196 Jessica Rest|        Nevada|3eef8133c7dc1a101...|      NULL|                NULL|      NULL|          1|\n",
      "| aaron55@example.org|  2024-05-03|1323568562|  59783 Miller Glens|      Michigan|f3f5cca8205fa4811...|      NULL|                NULL|      NULL|          1|\n",
      "| aaron66@example.org|  2025-04-28| 688793036|    03038 Meyer Isle|     Wisconsin|4225890d6dbc4c01f...|      NULL|                NULL|      NULL|          1|\n",
      "|aaronarroyo@examp...|  2024-04-16|6917980090|6787 Rhodes Run A...|    Washington|b478da9b8c1f48476...|      NULL|                NULL|      NULL|          1|\n",
      "|aaronarroyo@examp...|  2024-10-27|6917980090|6787 Rhodes Run A...|    Washington|b478da9b8c1f48476...|6917980090|6787 Rhodes Run A...|Washington|          0|\n",
      "|aaronhendricks@ex...|  2023-08-05|3462216619|0513 Kari Causewa...|          Iowa|0ce7afc934282189f...|      NULL|                NULL|      NULL|          1|\n",
      "|aaronhendricks@ex...|  2025-02-03|3462216619|0513 Kari Causewa...|          Iowa|0ce7afc934282189f...|3462216619|0513 Kari Causewa...|      Iowa|          0|\n",
      "|aaronjohnson@exam...|  2023-11-14| 997922867|32283 Campbell Pines|      Delaware|fa7919eae9646b295...|      NULL|                NULL|      NULL|          1|\n",
      "|aaronmontgomery@e...|  2024-08-03|8569348812|7801 Eric Mountai...|   Mississippi|f17012968e5d05c77...|      NULL|                NULL|      NULL|          1|\n",
      "|aaronprice@exampl...|  2024-11-13|5809649684| 81438 Carroll Light|          Ohio|5d61c40be1b920110...|      NULL|                NULL|      NULL|          1|\n",
      "|aaronsimpson@exam...|  2025-06-13|1102844954|6553 Fritz Circle...|    Washington|e447851737f3bcdf5...|      NULL|                NULL|      NULL|          1|\n",
      "|aaronwalker@examp...|  2025-05-30|1319741493|  25300 Amanda Spurs|      Missouri|079f9abb2c883429f...|      NULL|                NULL|      NULL|          1|\n",
      "|aaronwilson@examp...|  2024-04-06|3381633349|7166 Sullivan Roa...|      Kentucky|c0e19561d4f10b9e2...|      NULL|                NULL|      NULL|          1|\n",
      "|  aavila@example.com|  2023-08-08|7556908778|95485 Vincent Lig...|      Colorado|5784270216b4eb33b...|      NULL|                NULL|      NULL|          1|\n",
      "|  abaird@example.net|  2024-09-11| 856531179|50724 Patrick Mou...|      Maryland|7f4e39f50347daafd...|      NULL|                NULL|      NULL|          1|\n",
      "|  abaker@example.net|  2023-10-11| 657173228|    24609 Robin Well|        Hawaii|6a97cdf11dd73093f...|      NULL|                NULL|      NULL|          1|\n",
      "|  abaker@example.net|  2023-12-13| 657173228|    24609 Robin Well|        Hawaii|6a97cdf11dd73093f...| 657173228|    24609 Robin Well|    Hawaii|          0|\n",
      "+--------------------+------------+----------+--------------------+--------------+--------------------+----------+--------------------+----------+-----------+\n",
      "only showing top 20 rows\n"
     ]
    }
   ],
   "source": [
    "df_cust_changes.show()"
   ]
  },
  {
   "cell_type": "code",
   "execution_count": 108,
   "id": "5f777d75-710b-4920-95f2-df8f2f62aa6a",
   "metadata": {},
   "outputs": [],
   "source": [
    "##Assign a unique version ID to each group of unchanged records##\n",
    "df_version_group = df_cust_changes.withColumn(\"version_group\", spark_sum(\"change_flag\").over(w))"
   ]
  },
  {
   "cell_type": "code",
   "execution_count": 124,
   "id": "c89eb435-2663-44c8-a8f8-1d178d593276",
   "metadata": {},
   "outputs": [
    {
     "name": "stdout",
     "output_type": "stream",
     "text": [
      "+--------------------+------------+----------+--------------------+--------------+--------------------+----------+--------------------+----------+-----------+-------------+\n",
      "|       EMAIL_ADDRESS|BOOKING_DATE| PHONE_NUM|      STREET_ADDRESS|         STATE|          EMAIL_HASH|prev_phone|        prev_address|prev_state|change_flag|version_group|\n",
      "+--------------------+------------+----------+--------------------+--------------+--------------------+----------+--------------------+----------+-----------+-------------+\n",
      "|aanderson@example...|  2024-09-09|6943205203|106 Gardner Glen ...|North Carolina|40331fbae5b342bad...|      NULL|                NULL|      NULL|          1|            1|\n",
      "| aaron06@example.com|  2024-03-28|8297194934|  884 Miranda Course|      Illinois|5c7f10bf6e36ce15c...|      NULL|                NULL|      NULL|          1|            1|\n",
      "| aaron35@example.org|  2024-01-27|8075129060|      738 Heath Ways|       Arizona|fac1754a2d086513f...|      NULL|                NULL|      NULL|          1|            1|\n",
      "| aaron49@example.net|  2025-02-11|2679651914|  81196 Jessica Rest|        Nevada|3eef8133c7dc1a101...|      NULL|                NULL|      NULL|          1|            1|\n",
      "| aaron55@example.org|  2024-05-03|1323568562|  59783 Miller Glens|      Michigan|f3f5cca8205fa4811...|      NULL|                NULL|      NULL|          1|            1|\n",
      "| aaron66@example.org|  2025-04-28| 688793036|    03038 Meyer Isle|     Wisconsin|4225890d6dbc4c01f...|      NULL|                NULL|      NULL|          1|            1|\n",
      "|aaronarroyo@examp...|  2024-04-16|6917980090|6787 Rhodes Run A...|    Washington|b478da9b8c1f48476...|      NULL|                NULL|      NULL|          1|            1|\n",
      "|aaronarroyo@examp...|  2024-10-27|6917980090|6787 Rhodes Run A...|    Washington|b478da9b8c1f48476...|6917980090|6787 Rhodes Run A...|Washington|          0|            1|\n",
      "|aaronhendricks@ex...|  2023-08-05|3462216619|0513 Kari Causewa...|          Iowa|0ce7afc934282189f...|      NULL|                NULL|      NULL|          1|            1|\n",
      "|aaronhendricks@ex...|  2025-02-03|3462216619|0513 Kari Causewa...|          Iowa|0ce7afc934282189f...|3462216619|0513 Kari Causewa...|      Iowa|          0|            1|\n",
      "|aaronjohnson@exam...|  2023-11-14| 997922867|32283 Campbell Pines|      Delaware|fa7919eae9646b295...|      NULL|                NULL|      NULL|          1|            1|\n",
      "|aaronmontgomery@e...|  2024-08-03|8569348812|7801 Eric Mountai...|   Mississippi|f17012968e5d05c77...|      NULL|                NULL|      NULL|          1|            1|\n",
      "|aaronprice@exampl...|  2024-11-13|5809649684| 81438 Carroll Light|          Ohio|5d61c40be1b920110...|      NULL|                NULL|      NULL|          1|            1|\n",
      "|aaronsimpson@exam...|  2025-06-13|1102844954|6553 Fritz Circle...|    Washington|e447851737f3bcdf5...|      NULL|                NULL|      NULL|          1|            1|\n",
      "|aaronwalker@examp...|  2025-05-30|1319741493|  25300 Amanda Spurs|      Missouri|079f9abb2c883429f...|      NULL|                NULL|      NULL|          1|            1|\n",
      "|aaronwilson@examp...|  2024-04-06|3381633349|7166 Sullivan Roa...|      Kentucky|c0e19561d4f10b9e2...|      NULL|                NULL|      NULL|          1|            1|\n",
      "|  aavila@example.com|  2023-08-08|7556908778|95485 Vincent Lig...|      Colorado|5784270216b4eb33b...|      NULL|                NULL|      NULL|          1|            1|\n",
      "|  abaird@example.net|  2024-09-11| 856531179|50724 Patrick Mou...|      Maryland|7f4e39f50347daafd...|      NULL|                NULL|      NULL|          1|            1|\n",
      "|  abaker@example.net|  2023-10-11| 657173228|    24609 Robin Well|        Hawaii|6a97cdf11dd73093f...|      NULL|                NULL|      NULL|          1|            1|\n",
      "|  abaker@example.net|  2023-12-13| 657173228|    24609 Robin Well|        Hawaii|6a97cdf11dd73093f...| 657173228|    24609 Robin Well|    Hawaii|          0|            1|\n",
      "+--------------------+------------+----------+--------------------+--------------+--------------------+----------+--------------------+----------+-----------+-------------+\n",
      "only showing top 20 rows\n"
     ]
    }
   ],
   "source": [
    "df_version_group.show()"
   ]
  },
  {
   "cell_type": "code",
   "execution_count": 109,
   "id": "9cf080f2-9f46-415d-9d1b-9c6dd1b136a2",
   "metadata": {},
   "outputs": [],
   "source": [
    "##aggregates each version group\n",
    "df_dim_customer_hist = df_version_group.groupBy(\"EMAIL_HASH\", \"EMAIL_ADDRESS\", \"version_group\") \\\n",
    "    .agg(\n",
    "        expr(\"first(PHONE_NUM)\").alias(\"PHONE_NUM\"),\n",
    "        expr(\"first(STREET_ADDRESS)\").alias(\"STREET_ADDRESS\"),\n",
    "        expr(\"first(STATE)\").alias(\"STATE\"),\n",
    "        expr(\"min(BOOKING_DATE)\").alias(\"start_date\"),\n",
    "        expr(\"lead(min(BOOKING_DATE), 1) over (partition by EMAIL_ADDRESS order by min(BOOKING_DATE))\").alias(\"next_start_date\")\n",
    "    )"
   ]
  },
  {
   "cell_type": "code",
   "execution_count": 110,
   "id": "f24be1cf-1e4d-4f1d-bb2d-0753d0ab0f43",
   "metadata": {},
   "outputs": [],
   "source": [
    "df_customer_type_2 = df_dim_customer_hist.withColumn(\n",
    "    \"end_date\",\n",
    "    when(\n",
    "        col(\"next_start_date\").isNotNull(),\n",
    "        expr(\"date_sub(next_start_date, 1)\")\n",
    "    ).otherwise(lit(\"9999-12-31\").cast(DateType()))\n",
    ").drop(\"version_group\", \"next_start_date\")"
   ]
  },
  {
   "cell_type": "code",
   "execution_count": 111,
   "id": "c4af4498-31f9-4dd0-a208-93e27254b73f",
   "metadata": {},
   "outputs": [],
   "source": [
    "df_customer_type_2 = df_customer_type_2.orderBy(\"EMAIL_ADDRESS\", \"start_date\")"
   ]
  },
  {
   "cell_type": "code",
   "execution_count": 112,
   "id": "d5df1216-1460-4212-a689-34f737c20810",
   "metadata": {},
   "outputs": [
    {
     "name": "stdout",
     "output_type": "stream",
     "text": [
      "+----------------------------------------------------------------+----------------------+----------+------------------------------+--------------+----------+----------+\n",
      "|EMAIL_HASH                                                      |EMAIL_ADDRESS         |PHONE_NUM |STREET_ADDRESS                |STATE         |start_date|end_date  |\n",
      "+----------------------------------------------------------------+----------------------+----------+------------------------------+--------------+----------+----------+\n",
      "|a77ea1ac5486682e4a69c1b506d31b51e791529482cc6763fdc6e9f1bddef8ca|aadams@example.net    |6881747577|03668 Pham Place              |Florida       |2025-04-27|9999-12-31|\n",
      "|4d6441ff58547adf993b3a18d1f029382feb528dd07671cfefe77be5f2f97166|aadams@example.org    |288850687 |04013 Derrick Lodge           |Vermont       |2025-04-14|9999-12-31|\n",
      "|8e510dfbe106af60b0a3a2cf05588035c9889f9acce0d0b494ec6983ecc30360|aaguilar@example.net  |6015683839|8922 Mitchell Key             |Massachusetts |2024-02-20|9999-12-31|\n",
      "|3414a0b56119e6fa286c93bd96878ab8033f3c806f1a09279638abc92d12992f|aaguilar@example.org  |6708927455|2490 Scott Grove              |Massachusetts |2023-10-08|9999-12-31|\n",
      "|b5d129346a1faee310acccf78523ea81346d9e5354ea65a4ac55f932d414416c|aaguirre@example.org  |8485124373|9679 Alyssa Locks Apt. 106    |New Hampshire |2025-02-03|9999-12-31|\n",
      "|e1330a8f4e0e827365056140fa3b9cc7c8471def8dd4cffafc7f75d12192a3f5|aallen@example.com    |9126184630|80503 Tammy Pines Suite 677   |Rhode Island  |2024-09-21|9999-12-31|\n",
      "|e9fa92644cdd4e3e346e3c6f0eec00c98be4a01984872619365cba57533b726e|aallen@example.net    |4240515758|33274 Flores Locks            |Vermont       |2025-05-03|9999-12-31|\n",
      "|a21ce65dc12dcc785247e4b508ee1c869fdc6909472d5f05cf96ce571a111449|aallen@example.org    |3707335492|0310 Taylor Ville Apt. 296    |Mississippi   |2024-09-07|9999-12-31|\n",
      "|8aca3730530e4144a2ca10c59cfdc9a2b864f0e32b5f020e20fc4c329ae245be|aallison@example.com  |6318277842|41362 Mora Mills              |Louisiana     |2024-12-10|9999-12-31|\n",
      "|e82f375ef66e86792f5213c3a84a378ac11bf733052e2779bb448636ed5fa477|aalvarado@example.com |6654125623|0294 Page Throughway          |Massachusetts |2023-09-05|9999-12-31|\n",
      "|84593c96ec1ccd00e0ddc784f7f7d475d3e09ea06d8ddda1008b7661c6398a8c|aalvarado@example.net |7615572853|468 Joshua Dale Suite 015     |Wyoming       |2025-02-20|9999-12-31|\n",
      "|13f9eb24340f3b9c4486f0bc848937233485ec3e0b457cb7e6e08df682720a1e|aalvarado@example.org |2573775780|7599 Robert Common            |Wyoming       |2024-02-06|9999-12-31|\n",
      "|e16e5b14ac8ecdfcdfca077b6f5bae8076ed48eeda6c6a38b49ceaa859ef6872|aalvarez@example.net  |4355901077|2682 Bradshaw Harbor Suite 486|Rhode Island  |2025-02-07|9999-12-31|\n",
      "|83a8294f69496a2fa12e4df32021cc6435d016f25c71e3f0c646ac24133f13fe|aalvarez@example.org  |4897307006|59759 Murphy Center           |North Dakota  |2023-08-25|9999-12-31|\n",
      "|40331fbae5b342bad04f706c0d9c58f66a362421026179a1ff1d34ea10fc6a34|aanderson@example.com |6943205203|106 Gardner Glen Suite 165    |North Carolina|2024-09-09|9999-12-31|\n",
      "|1ad1243eb24f5d2cbf7848b05a7504732bd199418d74ec0c55ea5ae9d5c8dc7c|aanderson@example.net |3967835184|75953 Lauren Forest           |Maryland      |2025-06-13|9999-12-31|\n",
      "|ee026214d0755a2c0160baba6e5f8fa56ce725070bc9bd0c397a4386026d87e8|aanderson@example.org |7632152101|44004 Jennifer Forge Suite 935|Mississippi   |2025-02-16|9999-12-31|\n",
      "|8fb89d7f0a120cde1c91f34b7559160cc8048d23e6b28f38d37ce97b31d4026e|aanthony@example.com  |4234268823|074 Christine Path            |California    |2024-03-23|9999-12-31|\n",
      "|d24f201d5a853800e1cd5df8f0cdefd1aa9d68a318f30d0ef352de9711d17973|aarmstrong@example.org|3402483896|1168 Barker Hill Apt. 358     |Vermont       |2023-11-05|9999-12-31|\n",
      "|5adff581dd88f00f353d06ddb073132e032e7f886fb4a1d46def99196d7b8682|aarnold@example.net   |8551688210|9937 Torres Lakes Apt. 939    |Utah          |2023-08-07|9999-12-31|\n",
      "+----------------------------------------------------------------+----------------------+----------+------------------------------+--------------+----------+----------+\n",
      "only showing top 20 rows\n"
     ]
    }
   ],
   "source": [
    "df_customer_type_2.show(truncate=False)"
   ]
  },
  {
   "cell_type": "code",
   "execution_count": null,
   "id": "29ca5dd6-398b-49b9-93e9-8222d836e065",
   "metadata": {},
   "outputs": [],
   "source": []
  }
 ],
 "metadata": {
  "kernelspec": {
   "display_name": "Python 3 (ipykernel)",
   "language": "python",
   "name": "python3"
  },
  "language_info": {
   "codemirror_mode": {
    "name": "ipython",
    "version": 3
   },
   "file_extension": ".py",
   "mimetype": "text/x-python",
   "name": "python",
   "nbconvert_exporter": "python",
   "pygments_lexer": "ipython3",
   "version": "3.10.18"
  }
 },
 "nbformat": 4,
 "nbformat_minor": 5
}
